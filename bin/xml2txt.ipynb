{
 "cells": [
  {
   "cell_type": "code",
   "execution_count": 1,
   "id": "f983a1d8-6dd0-405b-aa79-050ca396142c",
   "metadata": {},
   "outputs": [],
   "source": [
    "import xml.etree.ElementTree as ET\n",
    "import pickle, os, glob\n",
    "from os import listdir, getcwd\n",
    "from os.path import join"
   ]
  },
  {
   "cell_type": "code",
   "execution_count": 2,
   "id": "49537ad0-d102-4602-a9e7-7d57b1702be6",
   "metadata": {},
   "outputs": [],
   "source": [
    "#將所有類別名稱先存入classes陣列(之後的標籤資料就會以0->vegtable,1->rice等來做表示)\n",
    "classes=['vegtable','rice','meat','fried meat']"
   ]
  },
  {
   "cell_type": "code",
   "execution_count": 3,
   "id": "90b7e4ba-8e7f-4b03-bb4a-4ca8ffc7071a",
   "metadata": {},
   "outputs": [],
   "source": [
    "def convert(size,box):\n",
    "    dw=1.0/size[0]\n",
    "    dh=1.0/size[1]\n",
    "    x=(box[0]+box[1])/2.0\n",
    "    y=(box[2]+box[3])/2.0\n",
    "    w=box[1]-box[0]\n",
    "    h=box[3]-box[2]\n",
    "    x=x*dw\n",
    "    w=w*dw\n",
    "    y=y*dh\n",
    "    h=h*dh\n",
    "    return (x,y,w,h)"
   ]
  },
  {
   "cell_type": "code",
   "execution_count": 8,
   "id": "b08753bc-ba15-43e8-84b7-c5907195496b",
   "metadata": {
    "tags": []
   },
   "outputs": [],
   "source": [
    "def convert_annotation(image_name):\n",
    "    in_file=open('../AIGO_valid/images/'+image_name)#來源圖片路徑位置，例如資料夾跟目前我們的這個檔案xml2txt.ipynb同位置，且名稱為P1，則路徑為'./P1/', ./代表當下路徑，P1為資料夾名稱，並加上圖片名(函數參數傳入)\n",
    "    out_file=open('../AIGO_valid/labels/'+image_name[:-3]+'txt','w')#建立一個輸出檔位置，當按位置在當下路徑的train資料夾\n",
    "    f=open('../AIGO_valid/images/'+image_name,encoding='UTF-8')#開檔，encoding=UTF-8事我加入的，不然會編碼錯誤\n",
    "    xml_text=f.read()\n",
    "    root=ET.fromstring(xml_text)\n",
    "    f.close()\n",
    "    size=root.find('size')\n",
    "    w=int(size.find('width').text)\n",
    "    h=int(size.find('height').text)\n",
    "    \n",
    "    for obj in root.iter('object'):\n",
    "        cls=obj.find('name').text\n",
    "        if cls not in classes:\n",
    "            #print(cls)\n",
    "            cls='vegtable'\n",
    "            #continue\n",
    "        cls_id=classes.index(cls)\n",
    "        xmlbox=obj.find('bndbox')\n",
    "        b=(float(xmlbox.find('xmin').text), float(xmlbox.find('xmax').text), float(xmlbox.find('ymin').text),\n",
    "           float(xmlbox.find('ymax').text))\n",
    "        bb=convert((w,h),b)\n",
    "        out_file.write(str(cls_id)+\" \"+\" \".join([str(a) for a in bb])+'\\n')"
   ]
  },
  {
   "cell_type": "code",
   "execution_count": 9,
   "id": "5d1d3fab-1bdd-43f3-a71d-3971f03b9faa",
   "metadata": {},
   "outputs": [],
   "source": [
    "wd=getcwd()\n",
    "if __name__=='__main__':#主程式\n",
    "    name=os.listdir('../AIGO_valid/images')\n",
    "    for image_path in glob.glob('../AIGO_valid/images/*.xml'):#這裡就是放你的讀入xml資料夾路徑，利用glob函數一個一個讀入所有附檔名為.xml的檔案\n",
    "        image_name=image_path.split('\\\\')[-1]\n",
    "        convert_annotation(image_name)"
   ]
  },
  {
   "cell_type": "code",
   "execution_count": null,
   "id": "493b6ec0-12a3-434c-ad54-89aaabb92d40",
   "metadata": {},
   "outputs": [],
   "source": []
  }
 ],
 "metadata": {
  "kernelspec": {
   "display_name": "Python 3 (ipykernel)",
   "language": "python",
   "name": "python3"
  },
  "language_info": {
   "codemirror_mode": {
    "name": "ipython",
    "version": 3
   },
   "file_extension": ".py",
   "mimetype": "text/x-python",
   "name": "python",
   "nbconvert_exporter": "python",
   "pygments_lexer": "ipython3",
   "version": "3.9.12"
  }
 },
 "nbformat": 4,
 "nbformat_minor": 5
}
