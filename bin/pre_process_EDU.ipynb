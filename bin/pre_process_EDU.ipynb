{
 "cells": [
  {
   "cell_type": "code",
   "execution_count": 1,
   "id": "be60b837-6616-4d76-8e37-7ce70e9c616c",
   "metadata": {},
   "outputs": [],
   "source": [
    "import os\n",
    "import openpyxl\n",
    "import pandas as pd\n",
    "from openpyxl import load_workbook\n",
    "from openpyxl.styles import Font\n",
    "from openpyxl.styles import PatternFill\n",
    "import glob\n",
    "import numpy as np"
   ]
  },
  {
   "cell_type": "code",
   "execution_count": 2,
   "id": "7f0cc7ef-f81e-4240-845d-c34d5bb0af46",
   "metadata": {},
   "outputs": [],
   "source": [
    "color=[['c6efce','006100'],\n",
    "       ['ffeb9c','9c6500']]\n",
    "c_lebal=0"
   ]
  },
  {
   "cell_type": "code",
   "execution_count": 3,
   "id": "e89da527-534b-48fc-98a2-58c64cb3f12d",
   "metadata": {},
   "outputs": [],
   "source": [
    "def area(string):\n",
    "    ans=np.zeros(4,dtype=np.float64)\n",
    "    for i in glob.glob('./label/'+string):\n",
    "        f=open(i,'r',encoding='UTF-8')\n",
    "        content=f.read().split('\\n')\n",
    "        for value in content:\n",
    "            text=value.split(' ')\n",
    "            if text[0]=='':\n",
    "                continue\n",
    "            try:\n",
    "                ans[int(text[0])]+=float(text[3])*float(text[4])\n",
    "            except:\n",
    "                print(i)\n",
    "        f.close()\n",
    "    return ans"
   ]
  },
  {
   "cell_type": "code",
   "execution_count": 4,
   "id": "72cefd26-29ab-47c7-8ea6-0b60876eb2c4",
   "metadata": {},
   "outputs": [
    {
     "name": "stdout",
     "output_type": "stream",
     "text": [
      "程式啟動，初始化中...\n",
      "營養資料表已轉換: 教育部食材登錄平台-高雄市小港區太平國小營養午餐.xlsx\n",
      "營養資料表已轉換: 教育部食材登錄平台-高雄市路竹區竹滬國小營養午餐.xlsx\n",
      "營養資料表已轉換: 教育部食材登錄平台-高雄市鳥松區仁美國小營養午餐.xlsx\n",
      "營養資料表已轉換: 教育部食材登錄平台-高雄市鳳山區五甲國小營養午餐.xlsx\n",
      "營養資料表已轉換: 教育部食材登錄平台-高雄市鳳山區鳳西國小營養午餐.xlsx\n",
      "營養資料表已轉換: 教育部食材登錄平台-高雄市鼓山區中山國小營養午餐.xlsx\n",
      "營養資料表已轉換: 教育部食材登錄平台-高雄市鼓山區鼓山高中營養午餐.xlsx\n",
      "資料提取結束, 7 筆成功, 0 筆失敗。\n"
     ]
    }
   ],
   "source": [
    "print('程式啟動，初始化中...')\n",
    "success=0\n",
    "failed=0\n",
    "error=[]\n",
    "wb=openpyxl.Workbook()\n",
    "sheet=wb.create_sheet(\"營養成分\",0)\n",
    "titles=('全榖雜糧','豆魚蛋肉','蔬菜','油脂','熱量','vegtable','rice','meat','fried meat')\n",
    "sheet.append(titles)\n",
    "name=os.listdir('excel_edu/')\n",
    "row=2\n",
    "iner_leb=2\n",
    "for ID in name:\n",
    "    lab_index=0\n",
    "    label=glob.glob('label/'+ID.split('.')[0]+'*')\n",
    "    source=load_workbook('excel_edu/'+ID, data_only=True, read_only=True)\n",
    "    sheetname=source.sheetnames\n",
    "    for sheets in sheetname:\n",
    "        col=1\n",
    "        sheet10=source[sheets]\n",
    "        for i in range(7):\n",
    "            if i==2 or i==4:\n",
    "                continue\n",
    "            if sheet10['N9'].value=='全穀雜糧類':\n",
    "                value=(sheet10.cell(row=i+9,column=15).value)\n",
    "            else:\n",
    "                value=(sheet10.cell(row=i+8,column=15).value)\n",
    "            #print(value)\n",
    "            if type(value)==str:\n",
    "                value=float(value.split(' ')[0])\n",
    "            sheet.cell(row=row,column=col,value=value)#.fill=fille\n",
    "            col+=1\n",
    "        section=area(label[lab_index].split('\\\\')[-1])\n",
    "        for i in range(4):\n",
    "            sheet.cell(row=row,column=col,value=section[i])#add area\n",
    "            col+=1\n",
    "        lab_index+=1\n",
    "        row+=1\n",
    "    source.close()\n",
    "    print('營養資料表已轉換: '+ID)\n",
    "    success+=1\n",
    "    c_lebal+=1\n",
    "wb.save('營養資料表(教育部)+面積.xlsx')\n",
    "wb.close()\n",
    "print('資料提取結束,',success,'筆成功,',failed,'筆失敗。')"
   ]
  },
  {
   "cell_type": "code",
   "execution_count": null,
   "id": "73c73d31-aef5-4ef0-bc1e-d5360cbb80dc",
   "metadata": {},
   "outputs": [],
   "source": []
  }
 ],
 "metadata": {
  "kernelspec": {
   "display_name": "Python 3 (ipykernel)",
   "language": "python",
   "name": "python3"
  },
  "language_info": {
   "codemirror_mode": {
    "name": "ipython",
    "version": 3
   },
   "file_extension": ".py",
   "mimetype": "text/x-python",
   "name": "python",
   "nbconvert_exporter": "python",
   "pygments_lexer": "ipython3",
   "version": "3.9.12"
  }
 },
 "nbformat": 4,
 "nbformat_minor": 5
}
