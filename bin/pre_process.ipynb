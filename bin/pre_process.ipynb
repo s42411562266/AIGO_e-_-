{
 "cells": [
  {
   "cell_type": "code",
   "execution_count": 1,
   "id": "0ad72362-ba86-4cc8-96b2-41c513baba4a",
   "metadata": {},
   "outputs": [],
   "source": [
    "import os\n",
    "import openpyxl\n",
    "import pandas as pd\n",
    "from openpyxl import load_workbook\n",
    "from openpyxl.styles import Font\n",
    "from openpyxl.styles import PatternFill\n",
    "import glob\n",
    "import numpy as np"
   ]
  },
  {
   "cell_type": "code",
   "execution_count": 2,
   "id": "aef039e6-c238-4090-b3a7-e3188bc93812",
   "metadata": {},
   "outputs": [],
   "source": [
    "color=[['c6efce','006100'],\n",
    "       ['ffeb9c','9c6500']]\n",
    "c_lebal=0"
   ]
  },
  {
   "cell_type": "code",
   "execution_count": 3,
   "id": "e2eecda2-884b-4752-b045-2d5ec7e59616",
   "metadata": {},
   "outputs": [],
   "source": [
    "def cal_heat(C31,D31,E31,F31,G31,H31,I31,sugar):#rice,meat,veg,fruit,milk,oil,seed,sugar\n",
    "    protein=(C31*2)+(D31*7)+(E31*1)+(G31*8)\n",
    "    fat=(D31*5)+(G31*8)+(H31*5)+(I31*5)\n",
    "    carbo=(C31*15)+(E31*5)+(F31*15)+(G31*12)\n",
    "    heat=(protein*4)+(fat*9)+(carbo*4)+(sugar*4)\n",
    "    return heat"
   ]
  },
  {
   "cell_type": "code",
   "execution_count": 4,
   "id": "d2c248c7-f117-4279-af02-4087a3173715",
   "metadata": {},
   "outputs": [],
   "source": [
    "def area(string):\n",
    "    ans=np.zeros((2,4),dtype=np.float64)\n",
    "    string=string.split('.')\n",
    "    if len(string)>2:\n",
    "        string=string[0]+'.'+string[1]\n",
    "    else:\n",
    "        string=string[0]\n",
    "    d1=0\n",
    "    for i in glob.glob('./label/'+string+'*'):\n",
    "        f=open(i,'r',encoding='UTF-8')\n",
    "        content=f.read().split('\\n')\n",
    "        for value in content:\n",
    "            text=value.split(' ')\n",
    "            if text[0]=='':\n",
    "                continue\n",
    "            try:\n",
    "                ans[d1][int(text[0])]+=float(text[3])*float(text[4])\n",
    "            except:\n",
    "                print(i)\n",
    "        d1+=1\n",
    "        f.close()\n",
    "    return ans"
   ]
  },
  {
   "cell_type": "code",
   "execution_count": 5,
   "id": "f06e2151-d128-40e8-b88a-dc31998bd209",
   "metadata": {
    "tags": []
   },
   "outputs": [
    {
     "name": "stdout",
     "output_type": "stream",
     "text": [
      "程式啟動，初始化中...\n",
      "資料提取結束, 100 筆成功, 0 筆失敗。\n"
     ]
    }
   ],
   "source": [
    "print('程式啟動，初始化中...')\n",
    "success=0\n",
    "failed=0\n",
    "error=[]\n",
    "wb=openpyxl.Workbook()\n",
    "sheet=wb.create_sheet(\"營養成分\",0)\n",
    "titles=('檔案名','全榖雜糧(份)','豆魚蛋肉(份)','蔬菜(份)','油脂(份)','熱量(大卡)','vegtable','rice','meat','fried meat')\n",
    "sheet.append(titles)\n",
    "name=os.listdir('KS/')\n",
    "name_count=2\n",
    "for ID in name:\n",
    "    section=area(ID)\n",
    "    #print(ID)\n",
    "    source=load_workbook('KS/'+ID, data_only=True, read_only=True)\n",
    "    if '統計總表' not in source.sheetnames:\n",
    "        error.append(ID)\n",
    "        failed+=1\n",
    "        continue\n",
    "    sheet10=source['統計總表']\n",
    "    fille=PatternFill('solid', fgColor=color[c_lebal%2][0])\n",
    "    sheet.cell(row=name_count,column=1,value=ID).fill=fille\n",
    "    sheet.merge_cells(start_row=name_count, start_column=1, end_row=name_count+1, end_column=1)\n",
    "    iner_leb=2\n",
    "    start=0\n",
    "    for k in range(1,60):\n",
    "        if sheet10.cell(row=1,column=k).value=='全榖雜糧類':\n",
    "            start=k\n",
    "            break\n",
    "    for i in range(8):\n",
    "        if i==3 or i==4 or i==6:\n",
    "            continue\n",
    "        sheet.cell(row=name_count,column=iner_leb,value=sheet10.cell(row=3,column=i+start).value).fill=fille\n",
    "        sheet.cell(row=name_count+1,column=iner_leb,value=sheet10.cell(row=4,column=i+start).value).fill=fille\n",
    "        iner_leb+=1 \n",
    "    for i in range(4):\n",
    "        sheet.cell(row=name_count,column=iner_leb,value=section[0][i]).fill=fille\n",
    "        sheet.cell(row=name_count+1,column=iner_leb,value=section[1][i]).fill=fille\n",
    "        iner_leb+=1\n",
    "    c_lebal+=1\n",
    "    name_count+=2\n",
    "    source.close()\n",
    "    #print('營養資料表已轉換: '+ID)\n",
    "    success+=1\n",
    "wb.save('營養份數表_all new.xlsx')\n",
    "wb.close()\n",
    "print('資料提取結束,',success,'筆成功,',failed,'筆失敗。')\n",
    "#sheet.merge_cells(start_row=2, start_column=1, end_row=3, end_column=1)"
   ]
  },
  {
   "cell_type": "code",
   "execution_count": null,
   "id": "b6b51ea2-63a6-47c7-87b2-c42f2d40fc1a",
   "metadata": {},
   "outputs": [],
   "source": []
  }
 ],
 "metadata": {
  "kernelspec": {
   "display_name": "Python 3 (ipykernel)",
   "language": "python",
   "name": "python3"
  },
  "language_info": {
   "codemirror_mode": {
    "name": "ipython",
    "version": 3
   },
   "file_extension": ".py",
   "mimetype": "text/x-python",
   "name": "python",
   "nbconvert_exporter": "python",
   "pygments_lexer": "ipython3",
   "version": "3.9.12"
  }
 },
 "nbformat": 4,
 "nbformat_minor": 5
}
