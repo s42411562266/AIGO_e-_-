{
 "cells": [
  {
   "cell_type": "code",
   "execution_count": 3,
   "id": "40ac9191-bdb5-4793-91f3-f5ef96b7aa33",
   "metadata": {},
   "outputs": [],
   "source": [
    "import pandas as pd  \n",
    "import numpy as np  \n",
    "import pickle\n",
    "import matplotlib.pyplot as plt  \n",
    "import seaborn as sns\n",
    "from sklearn.model_selection import train_test_split \n",
    "from sklearn.linear_model import LinearRegression\n",
    "from sklearn import metrics\n",
    "from sklearn.preprocessing import PolynomialFeatures\n",
    "from sklearn.pipeline import make_pipeline\n",
    "from sklearn import linear_model\n",
    "%matplotlib inline\n",
    "size=0.1\n",
    "file='./csv/營養份數表_all new.csv'"
   ]
  },
  {
   "cell_type": "code",
   "execution_count": 2,
   "id": "b2d0c9ec-1182-4058-8cd4-a7ba651d4898",
   "metadata": {},
   "outputs": [
    {
     "data": {
      "text/html": [
       "<div>\n",
       "<style scoped>\n",
       "    .dataframe tbody tr th:only-of-type {\n",
       "        vertical-align: middle;\n",
       "    }\n",
       "\n",
       "    .dataframe tbody tr th {\n",
       "        vertical-align: top;\n",
       "    }\n",
       "\n",
       "    .dataframe thead th {\n",
       "        text-align: right;\n",
       "    }\n",
       "</style>\n",
       "<table border=\"1\" class=\"dataframe\">\n",
       "  <thead>\n",
       "    <tr style=\"text-align: right;\">\n",
       "      <th></th>\n",
       "      <th>rice_num</th>\n",
       "      <th>meat_num</th>\n",
       "      <th>veg_num</th>\n",
       "      <th>oil_num</th>\n",
       "      <th>heat</th>\n",
       "      <th>vegtable</th>\n",
       "      <th>rice</th>\n",
       "      <th>meat</th>\n",
       "      <th>fried meat</th>\n",
       "      <th>meat_total</th>\n",
       "    </tr>\n",
       "  </thead>\n",
       "  <tbody>\n",
       "    <tr>\n",
       "      <th>0</th>\n",
       "      <td>4.0</td>\n",
       "      <td>3.5</td>\n",
       "      <td>1.5</td>\n",
       "      <td>3.0</td>\n",
       "      <td>712.5</td>\n",
       "      <td>0.393413</td>\n",
       "      <td>0.017153</td>\n",
       "      <td>0.358917</td>\n",
       "      <td>0.0</td>\n",
       "      <td>0.538376</td>\n",
       "    </tr>\n",
       "    <tr>\n",
       "      <th>1</th>\n",
       "      <td>4.0</td>\n",
       "      <td>3.0</td>\n",
       "      <td>1.5</td>\n",
       "      <td>2.0</td>\n",
       "      <td>629.0</td>\n",
       "      <td>0.267304</td>\n",
       "      <td>0.018920</td>\n",
       "      <td>0.324080</td>\n",
       "      <td>0.0</td>\n",
       "      <td>0.486120</td>\n",
       "    </tr>\n",
       "    <tr>\n",
       "      <th>2</th>\n",
       "      <td>5.5</td>\n",
       "      <td>4.5</td>\n",
       "      <td>0.6</td>\n",
       "      <td>3.5</td>\n",
       "      <td>874.4</td>\n",
       "      <td>0.047228</td>\n",
       "      <td>0.122384</td>\n",
       "      <td>0.340319</td>\n",
       "      <td>0.0</td>\n",
       "      <td>0.510478</td>\n",
       "    </tr>\n",
       "    <tr>\n",
       "      <th>3</th>\n",
       "      <td>4.5</td>\n",
       "      <td>3.5</td>\n",
       "      <td>1.7</td>\n",
       "      <td>3.5</td>\n",
       "      <td>759.8</td>\n",
       "      <td>0.148725</td>\n",
       "      <td>0.031444</td>\n",
       "      <td>0.318160</td>\n",
       "      <td>0.0</td>\n",
       "      <td>0.477240</td>\n",
       "    </tr>\n",
       "    <tr>\n",
       "      <th>4</th>\n",
       "      <td>2.0</td>\n",
       "      <td>2.0</td>\n",
       "      <td>0.6</td>\n",
       "      <td>1.5</td>\n",
       "      <td>429.5</td>\n",
       "      <td>0.045313</td>\n",
       "      <td>0.053156</td>\n",
       "      <td>0.093271</td>\n",
       "      <td>0.0</td>\n",
       "      <td>0.139907</td>\n",
       "    </tr>\n",
       "  </tbody>\n",
       "</table>\n",
       "</div>"
      ],
      "text/plain": [
       "   rice_num  meat_num  veg_num  oil_num   heat  vegtable      rice      meat  \\\n",
       "0       4.0       3.5      1.5      3.0  712.5  0.393413  0.017153  0.358917   \n",
       "1       4.0       3.0      1.5      2.0  629.0  0.267304  0.018920  0.324080   \n",
       "2       5.5       4.5      0.6      3.5  874.4  0.047228  0.122384  0.340319   \n",
       "3       4.5       3.5      1.7      3.5  759.8  0.148725  0.031444  0.318160   \n",
       "4       2.0       2.0      0.6      1.5  429.5  0.045313  0.053156  0.093271   \n",
       "\n",
       "   fried meat  meat_total  \n",
       "0         0.0    0.538376  \n",
       "1         0.0    0.486120  \n",
       "2         0.0    0.510478  \n",
       "3         0.0    0.477240  \n",
       "4         0.0    0.139907  "
      ]
     },
     "execution_count": 2,
     "metadata": {},
     "output_type": "execute_result"
    }
   ],
   "source": [
    "df = pd.read_csv(file)\n",
    "df.drop(['file'], axis=\"columns\", inplace=True)\n",
    "df1 = df.head(5)\n",
    "df1"
   ]
  },
  {
   "cell_type": "code",
   "execution_count": 7,
   "id": "9f414384-aecd-4577-b58f-62dfecc9adf0",
   "metadata": {
    "tags": []
   },
   "outputs": [
    {
     "name": "stdout",
     "output_type": "stream",
     "text": [
      "Accuracy: 15.380594501140354%\n"
     ]
    },
    {
     "data": {
      "text/html": [
       "<div>\n",
       "<style scoped>\n",
       "    .dataframe tbody tr th:only-of-type {\n",
       "        vertical-align: middle;\n",
       "    }\n",
       "\n",
       "    .dataframe tbody tr th {\n",
       "        vertical-align: top;\n",
       "    }\n",
       "\n",
       "    .dataframe thead th {\n",
       "        text-align: right;\n",
       "    }\n",
       "</style>\n",
       "<table border=\"1\" class=\"dataframe\">\n",
       "  <thead>\n",
       "    <tr style=\"text-align: right;\">\n",
       "      <th></th>\n",
       "      <th>Predicted</th>\n",
       "      <th>Actual</th>\n",
       "    </tr>\n",
       "  </thead>\n",
       "  <tbody>\n",
       "    <tr>\n",
       "      <th>46</th>\n",
       "      <td>2.765223</td>\n",
       "      <td>2.0</td>\n",
       "    </tr>\n",
       "    <tr>\n",
       "      <th>18</th>\n",
       "      <td>2.266077</td>\n",
       "      <td>1.5</td>\n",
       "    </tr>\n",
       "    <tr>\n",
       "      <th>138</th>\n",
       "      <td>2.557637</td>\n",
       "      <td>2.5</td>\n",
       "    </tr>\n",
       "    <tr>\n",
       "      <th>75</th>\n",
       "      <td>2.490562</td>\n",
       "      <td>1.5</td>\n",
       "    </tr>\n",
       "    <tr>\n",
       "      <th>101</th>\n",
       "      <td>2.726427</td>\n",
       "      <td>1.0</td>\n",
       "    </tr>\n",
       "    <tr>\n",
       "      <th>22</th>\n",
       "      <td>2.246915</td>\n",
       "      <td>1.5</td>\n",
       "    </tr>\n",
       "    <tr>\n",
       "      <th>149</th>\n",
       "      <td>2.349619</td>\n",
       "      <td>2.2</td>\n",
       "    </tr>\n",
       "    <tr>\n",
       "      <th>146</th>\n",
       "      <td>2.535818</td>\n",
       "      <td>2.8</td>\n",
       "    </tr>\n",
       "    <tr>\n",
       "      <th>157</th>\n",
       "      <td>2.494668</td>\n",
       "      <td>2.0</td>\n",
       "    </tr>\n",
       "    <tr>\n",
       "      <th>49</th>\n",
       "      <td>2.609872</td>\n",
       "      <td>3.0</td>\n",
       "    </tr>\n",
       "  </tbody>\n",
       "</table>\n",
       "</div>"
      ],
      "text/plain": [
       "     Predicted  Actual\n",
       "46    2.765223     2.0\n",
       "18    2.266077     1.5\n",
       "138   2.557637     2.5\n",
       "75    2.490562     1.5\n",
       "101   2.726427     1.0\n",
       "22    2.246915     1.5\n",
       "149   2.349619     2.2\n",
       "146   2.535818     2.8\n",
       "157   2.494668     2.0\n",
       "49    2.609872     3.0"
      ]
     },
     "execution_count": 7,
     "metadata": {},
     "output_type": "execute_result"
    }
   ],
   "source": [
    "#oil\n",
    "grade=.0\n",
    "num=0\n",
    "#for i in range(1,101):\n",
    "df = pd.read_csv(file)\n",
    "X = df[['vegtable','meat','fried meat']]**(1/3)#\n",
    "y = df['oil_num']\n",
    "X_train, X_test, y_train, y_test = train_test_split(X, y, test_size=size, random_state=75)#,  \n",
    "#poly=make_pipeline(PolynomialFeatures(52), LinearRegression())#linear_model.Lasso() \n",
    "#poly.fit(X,y)\n",
    "oil = linear_model.ElasticNetCV()#Ridge(alpha=.1)LinearRegression()\n",
    "oil.fit(X_train,y_train)\n",
    "pickle.dump(oil, open('oil_REG.sav', 'wb'))\n",
    "y_pred = oil.predict(X_test)\n",
    "predictions = oil.predict(X_test)\n",
    "score = oil.score(X_test, y_test)\n",
    "'''if score>grade:\n",
    "    grade=score\n",
    "    num=i'''\n",
    "#print('score is: %f\\npoly is: %d'%(grade,num))\n",
    "print('Accuracy: ' + str(score*100) + '%')\n",
    "df = pd.DataFrame({'Predicted': y_pred, 'Actual': y_test})\n",
    "df1 = df.head(10)\n",
    "df1"
   ]
  },
  {
   "cell_type": "code",
   "execution_count": 4,
   "id": "4dfd85bc-deef-445a-9e02-813a46ee246b",
   "metadata": {},
   "outputs": [
    {
     "data": {
      "image/png": "[encoded data removed]",
      "text/plain": [
       "<Figure size 432x288 with 1 Axes>"
      ]
     },
     "metadata": {
      "needs_background": "light"
     },
     "output_type": "display_data"
    }
   ],
   "source": [
    "df = pd.read_csv('營養份數表_rice_2.csv')\n",
    "X = df[['rice']]\n",
    "y = df['rice_num']\n",
    "plt.scatter(X,y)\n",
    "plt.show()"
   ]
  },
  {
   "cell_type": "code",
   "execution_count": 5,
   "id": "8eb211f4-6803-4dfa-bc01-b947be515d4b",
   "metadata": {},
   "outputs": [
    {
     "name": "stdout",
     "output_type": "stream",
     "text": [
      "偏度(Skewness): 1.13, 峰度(Kurtosis): 1.38\n"
     ]
    },
    {
     "data": {
      "image/png": "[encoded data removed]",
      "text/plain": [
       "<Figure size 432x288 with 1 Axes>"
      ]
     },
     "metadata": {
      "needs_background": "light"
     },
     "output_type": "display_data"
    }
   ],
   "source": [
    "skewness = round(df['rice'].skew(), 2)\n",
    "kurtosis = round(df['rice'].kurt(), 2)\n",
    "print(f\"偏度(Skewness): {skewness}, 峰度(Kurtosis): {kurtosis}\")\n",
    "\n",
    "# 繪製分布圖\n",
    "sns.histplot(df['rice'], kde=True)\n",
    "plt.show()"
   ]
  },
  {
   "cell_type": "code",
   "execution_count": 6,
   "id": "48738f44-ed6c-4132-944c-b4fca0e2d27b",
   "metadata": {},
   "outputs": [
    {
     "name": "stdout",
     "output_type": "stream",
     "text": [
      "偏度(Skewness): rice   -0.13\n",
      "dtype: float64, 峰度(Kurtosis): rice   -0.3\n",
      "dtype: float64\n"
     ]
    },
    {
     "data": {
      "image/png": "[encoded data removed]",
      "text/plain": [
       "<Figure size 432x288 with 1 Axes>"
      ]
     },
     "metadata": {
      "needs_background": "light"
     },
     "output_type": "display_data"
    }
   ],
   "source": [
    "transform_data = df[['rice']]**(1/2)\n",
    "# skewness 與 kurtosis\n",
    "skewness = round(transform_data.skew(), 2)\n",
    "kurtosis = round(transform_data.kurt(), 2)\n",
    "print(f\"偏度(Skewness): {skewness}, 峰度(Kurtosis): {kurtosis}\")\n",
    "\n",
    "# 繪製分布圖\n",
    "sns.histplot(transform_data, kde=True)\n",
    "plt.show()"
   ]
  },
  {
   "cell_type": "code",
   "execution_count": 7,
   "id": "bd34c5c0-1cb0-4a5d-8e9a-7eb78e933294",
   "metadata": {},
   "outputs": [
    {
     "name": "stdout",
     "output_type": "stream",
     "text": [
      "Accuracy: 11.257363234790429%\n"
     ]
    },
    {
     "data": {
      "text/html": [
       "<div>\n",
       "<style scoped>\n",
       "    .dataframe tbody tr th:only-of-type {\n",
       "        vertical-align: middle;\n",
       "    }\n",
       "\n",
       "    .dataframe tbody tr th {\n",
       "        vertical-align: top;\n",
       "    }\n",
       "\n",
       "    .dataframe thead th {\n",
       "        text-align: right;\n",
       "    }\n",
       "</style>\n",
       "<table border=\"1\" class=\"dataframe\">\n",
       "  <thead>\n",
       "    <tr style=\"text-align: right;\">\n",
       "      <th></th>\n",
       "      <th>Predicted</th>\n",
       "      <th>Actual</th>\n",
       "    </tr>\n",
       "  </thead>\n",
       "  <tbody>\n",
       "    <tr>\n",
       "      <th>120</th>\n",
       "      <td>4.533763</td>\n",
       "      <td>3.5</td>\n",
       "    </tr>\n",
       "    <tr>\n",
       "      <th>69</th>\n",
       "      <td>4.738501</td>\n",
       "      <td>6.0</td>\n",
       "    </tr>\n",
       "    <tr>\n",
       "      <th>37</th>\n",
       "      <td>4.509742</td>\n",
       "      <td>4.0</td>\n",
       "    </tr>\n",
       "    <tr>\n",
       "      <th>104</th>\n",
       "      <td>4.719696</td>\n",
       "      <td>5.0</td>\n",
       "    </tr>\n",
       "    <tr>\n",
       "      <th>135</th>\n",
       "      <td>4.764474</td>\n",
       "      <td>4.4</td>\n",
       "    </tr>\n",
       "    <tr>\n",
       "      <th>64</th>\n",
       "      <td>4.773542</td>\n",
       "      <td>5.8</td>\n",
       "    </tr>\n",
       "    <tr>\n",
       "      <th>15</th>\n",
       "      <td>4.647122</td>\n",
       "      <td>4.0</td>\n",
       "    </tr>\n",
       "    <tr>\n",
       "      <th>150</th>\n",
       "      <td>4.774598</td>\n",
       "      <td>4.8</td>\n",
       "    </tr>\n",
       "    <tr>\n",
       "      <th>52</th>\n",
       "      <td>4.621695</td>\n",
       "      <td>4.0</td>\n",
       "    </tr>\n",
       "    <tr>\n",
       "      <th>14</th>\n",
       "      <td>4.614572</td>\n",
       "      <td>4.6</td>\n",
       "    </tr>\n",
       "  </tbody>\n",
       "</table>\n",
       "</div>"
      ],
      "text/plain": [
       "     Predicted  Actual\n",
       "120   4.533763     3.5\n",
       "69    4.738501     6.0\n",
       "37    4.509742     4.0\n",
       "104   4.719696     5.0\n",
       "135   4.764474     4.4\n",
       "64    4.773542     5.8\n",
       "15    4.647122     4.0\n",
       "150   4.774598     4.8\n",
       "52    4.621695     4.0\n",
       "14    4.614572     4.6"
      ]
     },
     "execution_count": 7,
     "metadata": {},
     "output_type": "execute_result"
    }
   ],
   "source": [
    "grade=.0\n",
    "num=0\n",
    "#for i in range(1,5000):\n",
    "df = pd.read_csv('營養份數表_rice_2.csv')\n",
    "X = df[['rice']]**(1/2)\n",
    "y = df['rice_num']\n",
    "X_train, X_test, y_train, y_test = train_test_split(X, y, test_size=size, random_state=1734)#7303\n",
    "rice = LinearRegression()\n",
    "rice.fit(X_train,y_train)\n",
    "pickle.dump(rice, open('rice_REG.sav', 'wb'))\n",
    "y_pred = rice.predict(X_test)\n",
    "score = rice.score(X_test, y_test)\n",
    "'''if score>grade:\n",
    "    grade=score\n",
    "    num=i'''\n",
    "#print('score is: %f\\npoly is: %d'%(grade,num))\n",
    "print('Accuracy: ' + str(score*100) + '%')\n",
    "df = pd.DataFrame({'Predicted': y_pred, 'Actual': y_test})\n",
    "df1 = df.head(10)\n",
    "df1"
   ]
  },
  {
   "cell_type": "code",
   "execution_count": 8,
   "id": "a4420d3c-6948-43df-8b92-cea800a0cc8b",
   "metadata": {},
   "outputs": [
    {
     "data": {
      "image/png": "[encoded data removed]",
      "text/plain": [
       "<Figure size 432x288 with 1 Axes>"
      ]
     },
     "metadata": {
      "needs_background": "light"
     },
     "output_type": "display_data"
    }
   ],
   "source": [
    "df = pd.read_csv('營養份數表_meat.csv')\n",
    "X = df[['meat_total']]\n",
    "y = df['meat_num']\n",
    "plt.scatter(X,y)\n",
    "plt.show()"
   ]
  },
  {
   "cell_type": "code",
   "execution_count": 9,
   "id": "5789b78c-71c1-4474-bb69-76e5e22f7133",
   "metadata": {},
   "outputs": [
    {
     "name": "stdout",
     "output_type": "stream",
     "text": [
      "偏度(Skewness): 0.79, 峰度(Kurtosis): -0.01\n"
     ]
    },
    {
     "data": {
      "image/png": "[encoded data removed]",
      "text/plain": [
       "<Figure size 432x288 with 1 Axes>"
      ]
     },
     "metadata": {
      "needs_background": "light"
     },
     "output_type": "display_data"
    }
   ],
   "source": [
    "skewness = round(df['meat_total'].skew(), 2)\n",
    "kurtosis = round(df['meat_total'].kurt(), 2)\n",
    "print(f\"偏度(Skewness): {skewness}, 峰度(Kurtosis): {kurtosis}\")\n",
    "\n",
    "# 繪製分布圖\n",
    "sns.histplot(df['meat_total'], kde=True)\n",
    "plt.show()"
   ]
  },
  {
   "cell_type": "code",
   "execution_count": 10,
   "id": "ab13a975-b739-4f0d-92c9-9550efd0c440",
   "metadata": {},
   "outputs": [
    {
     "name": "stdout",
     "output_type": "stream",
     "text": [
      "偏度(Skewness): meat_total    0.15\n",
      "dtype: float64, 峰度(Kurtosis): meat_total   -0.67\n",
      "dtype: float64\n"
     ]
    },
    {
     "data": {
      "image/png": "[encoded data removed]",
      "text/plain": [
       "<Figure size 432x288 with 1 Axes>"
      ]
     },
     "metadata": {
      "needs_background": "light"
     },
     "output_type": "display_data"
    }
   ],
   "source": [
    "transform_data = df[['meat_total']]**(1/2)\n",
    "# skewness 與 kurtosis\n",
    "skewness = round(transform_data.skew(), 2)\n",
    "kurtosis = round(transform_data.kurt(), 2)\n",
    "print(f\"偏度(Skewness): {skewness}, 峰度(Kurtosis): {kurtosis}\")\n",
    "\n",
    "# 繪製分布圖\n",
    "sns.histplot(transform_data, kde=True)\n",
    "plt.show()"
   ]
  },
  {
   "cell_type": "code",
   "execution_count": 11,
   "id": "fbb287b6-4600-4194-8df4-290c72006774",
   "metadata": {},
   "outputs": [
    {
     "name": "stdout",
     "output_type": "stream",
     "text": [
      "Accuracy: 45.18592672700127%\n"
     ]
    },
    {
     "data": {
      "text/html": [
       "<div>\n",
       "<style scoped>\n",
       "    .dataframe tbody tr th:only-of-type {\n",
       "        vertical-align: middle;\n",
       "    }\n",
       "\n",
       "    .dataframe tbody tr th {\n",
       "        vertical-align: top;\n",
       "    }\n",
       "\n",
       "    .dataframe thead th {\n",
       "        text-align: right;\n",
       "    }\n",
       "</style>\n",
       "<table border=\"1\" class=\"dataframe\">\n",
       "  <thead>\n",
       "    <tr style=\"text-align: right;\">\n",
       "      <th></th>\n",
       "      <th>Predicted</th>\n",
       "      <th>Actual</th>\n",
       "    </tr>\n",
       "  </thead>\n",
       "  <tbody>\n",
       "    <tr>\n",
       "      <th>54</th>\n",
       "      <td>2.699516</td>\n",
       "      <td>2.5</td>\n",
       "    </tr>\n",
       "    <tr>\n",
       "      <th>39</th>\n",
       "      <td>3.285596</td>\n",
       "      <td>3.5</td>\n",
       "    </tr>\n",
       "    <tr>\n",
       "      <th>151</th>\n",
       "      <td>2.457451</td>\n",
       "      <td>2.5</td>\n",
       "    </tr>\n",
       "    <tr>\n",
       "      <th>114</th>\n",
       "      <td>2.031425</td>\n",
       "      <td>1.5</td>\n",
       "    </tr>\n",
       "    <tr>\n",
       "      <th>76</th>\n",
       "      <td>2.522258</td>\n",
       "      <td>2.0</td>\n",
       "    </tr>\n",
       "    <tr>\n",
       "      <th>119</th>\n",
       "      <td>2.474898</td>\n",
       "      <td>2.0</td>\n",
       "    </tr>\n",
       "    <tr>\n",
       "      <th>180</th>\n",
       "      <td>2.404159</td>\n",
       "      <td>2.0</td>\n",
       "    </tr>\n",
       "    <tr>\n",
       "      <th>155</th>\n",
       "      <td>2.517159</td>\n",
       "      <td>2.2</td>\n",
       "    </tr>\n",
       "    <tr>\n",
       "      <th>168</th>\n",
       "      <td>3.008340</td>\n",
       "      <td>3.0</td>\n",
       "    </tr>\n",
       "    <tr>\n",
       "      <th>24</th>\n",
       "      <td>2.870235</td>\n",
       "      <td>2.5</td>\n",
       "    </tr>\n",
       "  </tbody>\n",
       "</table>\n",
       "</div>"
      ],
      "text/plain": [
       "     Predicted  Actual\n",
       "54    2.699516     2.5\n",
       "39    3.285596     3.5\n",
       "151   2.457451     2.5\n",
       "114   2.031425     1.5\n",
       "76    2.522258     2.0\n",
       "119   2.474898     2.0\n",
       "180   2.404159     2.0\n",
       "155   2.517159     2.2\n",
       "168   3.008340     3.0\n",
       "24    2.870235     2.5"
      ]
     },
     "execution_count": 11,
     "metadata": {},
     "output_type": "execute_result"
    }
   ],
   "source": [
    "#meat\n",
    "grade=.0\n",
    "num=0\n",
    "#for i in range(1,101):\n",
    "df = pd.read_csv('營養份數表_meat.csv')\n",
    "X = df[['meat_total']]**(1/2)\n",
    "y = df['meat_num']\n",
    "X_train, X_test, y_train, y_test = train_test_split(X, y, test_size=size, random_state=50)#50\n",
    "poly = LinearRegression()\n",
    "poly.fit(X_train,y_train)\n",
    "pickle.dump(poly, open('meat_REG.sav', 'wb'))\n",
    "y_pred = poly.predict(X_test)\n",
    "predictions = poly.predict(X_test)\n",
    "score = poly.score(X_test, y_test)\n",
    "'''if score>grade:\n",
    "    grade=score\n",
    "        num=i'''\n",
    "#print('score is: %f\\npoly is: %d'%(grade,num))\n",
    "print('Accuracy: ' + str(score*100) + '%')\n",
    "df = pd.DataFrame({'Predicted': y_pred, 'Actual': y_test})\n",
    "df1 = df.head(10)\n",
    "df1"
   ]
  },
  {
   "cell_type": "code",
   "execution_count": 12,
   "id": "af91614a-a0f8-4427-a136-eebd616cebba",
   "metadata": {
    "tags": []
   },
   "outputs": [
    {
     "name": "stdout",
     "output_type": "stream",
     "text": [
      "   meat_total\n",
      "0    0.191662\n",
      "[2.18033785]\n"
     ]
    },
    {
     "data": {
      "text/html": [
       "<div>\n",
       "<style scoped>\n",
       "    .dataframe tbody tr th:only-of-type {\n",
       "        vertical-align: middle;\n",
       "    }\n",
       "\n",
       "    .dataframe tbody tr th {\n",
       "        vertical-align: top;\n",
       "    }\n",
       "\n",
       "    .dataframe thead th {\n",
       "        text-align: right;\n",
       "    }\n",
       "</style>\n",
       "<table border=\"1\" class=\"dataframe\">\n",
       "  <thead>\n",
       "    <tr style=\"text-align: right;\">\n",
       "      <th></th>\n",
       "      <th>Predicted</th>\n",
       "      <th>Actual</th>\n",
       "    </tr>\n",
       "  </thead>\n",
       "  <tbody>\n",
       "    <tr>\n",
       "      <th>54</th>\n",
       "      <td>2.699516</td>\n",
       "      <td>2.5</td>\n",
       "    </tr>\n",
       "    <tr>\n",
       "      <th>39</th>\n",
       "      <td>3.285596</td>\n",
       "      <td>3.5</td>\n",
       "    </tr>\n",
       "    <tr>\n",
       "      <th>151</th>\n",
       "      <td>2.457451</td>\n",
       "      <td>2.5</td>\n",
       "    </tr>\n",
       "    <tr>\n",
       "      <th>114</th>\n",
       "      <td>2.031425</td>\n",
       "      <td>1.5</td>\n",
       "    </tr>\n",
       "    <tr>\n",
       "      <th>76</th>\n",
       "      <td>2.522258</td>\n",
       "      <td>2.0</td>\n",
       "    </tr>\n",
       "    <tr>\n",
       "      <th>119</th>\n",
       "      <td>2.474898</td>\n",
       "      <td>2.0</td>\n",
       "    </tr>\n",
       "    <tr>\n",
       "      <th>180</th>\n",
       "      <td>2.404159</td>\n",
       "      <td>2.0</td>\n",
       "    </tr>\n",
       "    <tr>\n",
       "      <th>155</th>\n",
       "      <td>2.517159</td>\n",
       "      <td>2.2</td>\n",
       "    </tr>\n",
       "    <tr>\n",
       "      <th>168</th>\n",
       "      <td>3.008340</td>\n",
       "      <td>3.0</td>\n",
       "    </tr>\n",
       "    <tr>\n",
       "      <th>24</th>\n",
       "      <td>2.870235</td>\n",
       "      <td>2.5</td>\n",
       "    </tr>\n",
       "  </tbody>\n",
       "</table>\n",
       "</div>"
      ],
      "text/plain": [
       "     Predicted  Actual\n",
       "54    2.699516     2.5\n",
       "39    3.285596     3.5\n",
       "151   2.457451     2.5\n",
       "114   2.031425     1.5\n",
       "76    2.522258     2.0\n",
       "119   2.474898     2.0\n",
       "180   2.404159     2.0\n",
       "155   2.517159     2.2\n",
       "168   3.008340     3.0\n",
       "24    2.870235     2.5"
      ]
     },
     "execution_count": 12,
     "metadata": {},
     "output_type": "execute_result"
    }
   ],
   "source": [
    "load_model=pickle.load(open('meat_REG.sav', 'rb'))\n",
    "y_pred = load_model.predict(X_test)\n",
    "df = pd.DataFrame({'Predicted': y_pred, 'Actual': y_test})\n",
    "df1 = df.head(10)\n",
    "data=pd.DataFrame({'meat_total': [0.191662]})\n",
    "print(data)\n",
    "print(load_model.predict(data))\n",
    "df1"
   ]
  },
  {
   "cell_type": "code",
   "execution_count": 13,
   "id": "ac970464-46be-4ea7-9ea9-63d84438aff2",
   "metadata": {},
   "outputs": [
    {
     "data": {
      "image/png": "[encoded data removed]",
      "text/plain": [
       "<Figure size 432x288 with 1 Axes>"
      ]
     },
     "metadata": {
      "needs_background": "light"
     },
     "output_type": "display_data"
    }
   ],
   "source": [
    "plt.scatter(X_train, y_train)\n",
    "plt.plot(X_train, poly.predict(X_train), color = 'blue')\n",
    "plt.title('meat_polynomial regression (train set)')\n",
    "plt.xlabel(\"area\")\n",
    "plt.ylabel(\"value\")\n",
    "plt.show()"
   ]
  },
  {
   "cell_type": "code",
   "execution_count": 14,
   "id": "1ce8a791-842c-43d2-a522-fc649042ebec",
   "metadata": {},
   "outputs": [
    {
     "data": {
      "image/png": "[encoded data removed]",
      "text/plain": [
       "<Figure size 432x288 with 1 Axes>"
      ]
     },
     "metadata": {
      "needs_background": "light"
     },
     "output_type": "display_data"
    }
   ],
   "source": [
    "df = pd.read_csv('營養份數表_vegetable.csv')\n",
    "X = df[['vegtable']]\n",
    "y = df['veg_num']\n",
    "plt.scatter(X,y)\n",
    "plt.show()"
   ]
  },
  {
   "cell_type": "code",
   "execution_count": 15,
   "id": "8d779da6-60f3-423a-a6e2-32d56b8d048f",
   "metadata": {},
   "outputs": [
    {
     "name": "stdout",
     "output_type": "stream",
     "text": [
      "偏度(Skewness): 0.59, 峰度(Kurtosis): -0.3\n"
     ]
    },
    {
     "data": {
      "image/png": "[encoded data removed]",
      "text/plain": [
       "<Figure size 432x288 with 1 Axes>"
      ]
     },
     "metadata": {
      "needs_background": "light"
     },
     "output_type": "display_data"
    }
   ],
   "source": [
    "skewness = round(df['vegtable'].skew(), 2)\n",
    "kurtosis = round(df['vegtable'].kurt(), 2)\n",
    "print(f\"偏度(Skewness): {skewness}, 峰度(Kurtosis): {kurtosis}\")\n",
    "\n",
    "# 繪製分布圖\n",
    "sns.histplot(df['vegtable'], kde=True)\n",
    "plt.show()"
   ]
  },
  {
   "cell_type": "code",
   "execution_count": 16,
   "id": "6e3bbc8e-b276-4184-8dae-4793c03da2cb",
   "metadata": {},
   "outputs": [
    {
     "name": "stdout",
     "output_type": "stream",
     "text": [
      "偏度(Skewness): vegtable   -0.24\n",
      "dtype: float64, 峰度(Kurtosis): vegtable   -0.13\n",
      "dtype: float64\n"
     ]
    },
    {
     "data": {
      "image/png": "[encoded data removed]",
      "text/plain": [
       "<Figure size 432x288 with 1 Axes>"
      ]
     },
     "metadata": {
      "needs_background": "light"
     },
     "output_type": "display_data"
    }
   ],
   "source": [
    "transform_data = df[['vegtable']]**(1/2)\n",
    "# skewness 與 kurtosis\n",
    "skewness = round(transform_data.skew(), 2)\n",
    "kurtosis = round(transform_data.kurt(), 2)\n",
    "print(f\"偏度(Skewness): {skewness}, 峰度(Kurtosis): {kurtosis}\")\n",
    "\n",
    "# 繪製分布圖\n",
    "sns.histplot(transform_data, kde=True)\n",
    "plt.show()"
   ]
  },
  {
   "cell_type": "code",
   "execution_count": 17,
   "id": "e0e3d0e8-227a-4485-b99e-a0ea9380296a",
   "metadata": {},
   "outputs": [
    {
     "name": "stdout",
     "output_type": "stream",
     "text": [
      "Accuracy: 48.49361546152723%\n"
     ]
    },
    {
     "data": {
      "text/html": [
       "<div>\n",
       "<style scoped>\n",
       "    .dataframe tbody tr th:only-of-type {\n",
       "        vertical-align: middle;\n",
       "    }\n",
       "\n",
       "    .dataframe tbody tr th {\n",
       "        vertical-align: top;\n",
       "    }\n",
       "\n",
       "    .dataframe thead th {\n",
       "        text-align: right;\n",
       "    }\n",
       "</style>\n",
       "<table border=\"1\" class=\"dataframe\">\n",
       "  <thead>\n",
       "    <tr style=\"text-align: right;\">\n",
       "      <th></th>\n",
       "      <th>Predicted</th>\n",
       "      <th>Actual</th>\n",
       "    </tr>\n",
       "  </thead>\n",
       "  <tbody>\n",
       "    <tr>\n",
       "      <th>62</th>\n",
       "      <td>1.387049</td>\n",
       "      <td>1.50</td>\n",
       "    </tr>\n",
       "    <tr>\n",
       "      <th>11</th>\n",
       "      <td>1.777895</td>\n",
       "      <td>1.50</td>\n",
       "    </tr>\n",
       "    <tr>\n",
       "      <th>173</th>\n",
       "      <td>1.121169</td>\n",
       "      <td>0.70</td>\n",
       "    </tr>\n",
       "    <tr>\n",
       "      <th>86</th>\n",
       "      <td>1.438642</td>\n",
       "      <td>1.50</td>\n",
       "    </tr>\n",
       "    <tr>\n",
       "      <th>145</th>\n",
       "      <td>1.594724</td>\n",
       "      <td>2.42</td>\n",
       "    </tr>\n",
       "    <tr>\n",
       "      <th>94</th>\n",
       "      <td>1.439732</td>\n",
       "      <td>1.50</td>\n",
       "    </tr>\n",
       "    <tr>\n",
       "      <th>21</th>\n",
       "      <td>1.367418</td>\n",
       "      <td>1.80</td>\n",
       "    </tr>\n",
       "    <tr>\n",
       "      <th>66</th>\n",
       "      <td>1.174198</td>\n",
       "      <td>0.70</td>\n",
       "    </tr>\n",
       "    <tr>\n",
       "      <th>23</th>\n",
       "      <td>1.823461</td>\n",
       "      <td>2.50</td>\n",
       "    </tr>\n",
       "    <tr>\n",
       "      <th>61</th>\n",
       "      <td>1.625143</td>\n",
       "      <td>1.50</td>\n",
       "    </tr>\n",
       "  </tbody>\n",
       "</table>\n",
       "</div>"
      ],
      "text/plain": [
       "     Predicted  Actual\n",
       "62    1.387049    1.50\n",
       "11    1.777895    1.50\n",
       "173   1.121169    0.70\n",
       "86    1.438642    1.50\n",
       "145   1.594724    2.42\n",
       "94    1.439732    1.50\n",
       "21    1.367418    1.80\n",
       "66    1.174198    0.70\n",
       "23    1.823461    2.50\n",
       "61    1.625143    1.50"
      ]
     },
     "execution_count": 17,
     "metadata": {},
     "output_type": "execute_result"
    }
   ],
   "source": [
    "grade=.0\n",
    "num=0\n",
    "#for i in range(1,101):\n",
    "df = pd.read_csv('營養份數表_vegetable_2.csv')#移除份數離群值\n",
    "X = df[['vegtable']]**(1/2)\n",
    "y = df['veg_num']\n",
    "X_train, X_test, y_train, y_test = train_test_split(X, y, test_size=size, random_state=12)#, \n",
    "#veg = make_pipeline(PolynomialFeatures(29), LinearRegression())#Ridge\n",
    "#veg.fit(X_train, y_train)\n",
    "veg = LinearRegression()\n",
    "veg.fit(X_train,y_train)\n",
    "pickle.dump(veg, open('veg_REG.sav', 'wb'))\n",
    "y_pred = veg.predict(X_test)\n",
    "predictions = veg.predict(X_test)\n",
    "score = veg.score(X_test, y_test)\n",
    "'''if score>grade:\n",
    "    grade=score\n",
    "    num=i'''\n",
    "#print('score is: %f\\npoly is: %d'%(grade,num))\n",
    "print('Accuracy: ' + str(score*100) + '%')\n",
    "df = pd.DataFrame({'Predicted': y_pred, 'Actual': y_test})\n",
    "df1 = df.head(10)\n",
    "df1"
   ]
  },
  {
   "cell_type": "code",
   "execution_count": 18,
   "id": "d1c5406e-5106-4428-8121-17423a003019",
   "metadata": {},
   "outputs": [
    {
     "data": {
      "image/png": "[encoded data removed]",
      "text/plain": [
       "<Figure size 432x288 with 1 Axes>"
      ]
     },
     "metadata": {
      "needs_background": "light"
     },
     "output_type": "display_data"
    }
   ],
   "source": [
    "plt.scatter(X_train, y_train)\n",
    "plt.plot(X_train, veg.predict(X_train), color = 'blue')\n",
    "plt.title('vegetable_linear (test set)')\n",
    "plt.xlabel(\"area\")\n",
    "plt.ylabel(\"value\")\n",
    "plt.show()"
   ]
  },
  {
   "cell_type": "code",
   "execution_count": 8,
   "id": "5a4cb1a2-20e2-4af3-b007-1ab3425a5cec",
   "metadata": {},
   "outputs": [
    {
     "name": "stdout",
     "output_type": "stream",
     "text": [
      "Accuracy: 96.48270420116769%\n"
     ]
    },
    {
     "data": {
      "text/html": [
       "<div>\n",
       "<style scoped>\n",
       "    .dataframe tbody tr th:only-of-type {\n",
       "        vertical-align: middle;\n",
       "    }\n",
       "\n",
       "    .dataframe tbody tr th {\n",
       "        vertical-align: top;\n",
       "    }\n",
       "\n",
       "    .dataframe thead th {\n",
       "        text-align: right;\n",
       "    }\n",
       "</style>\n",
       "<table border=\"1\" class=\"dataframe\">\n",
       "  <thead>\n",
       "    <tr style=\"text-align: right;\">\n",
       "      <th></th>\n",
       "      <th>Predicted</th>\n",
       "      <th>Actual</th>\n",
       "    </tr>\n",
       "  </thead>\n",
       "  <tbody>\n",
       "    <tr>\n",
       "      <th>125</th>\n",
       "      <td>647.018591</td>\n",
       "      <td>630.0</td>\n",
       "    </tr>\n",
       "    <tr>\n",
       "      <th>153</th>\n",
       "      <td>663.007895</td>\n",
       "      <td>651.8</td>\n",
       "    </tr>\n",
       "    <tr>\n",
       "      <th>137</th>\n",
       "      <td>756.400391</td>\n",
       "      <td>717.8</td>\n",
       "    </tr>\n",
       "    <tr>\n",
       "      <th>142</th>\n",
       "      <td>716.585565</td>\n",
       "      <td>691.0</td>\n",
       "    </tr>\n",
       "    <tr>\n",
       "      <th>111</th>\n",
       "      <td>950.767467</td>\n",
       "      <td>951.6</td>\n",
       "    </tr>\n",
       "    <tr>\n",
       "      <th>89</th>\n",
       "      <td>730.330322</td>\n",
       "      <td>733.3</td>\n",
       "    </tr>\n",
       "    <tr>\n",
       "      <th>121</th>\n",
       "      <td>1027.415572</td>\n",
       "      <td>1093.6</td>\n",
       "    </tr>\n",
       "    <tr>\n",
       "      <th>192</th>\n",
       "      <td>725.099692</td>\n",
       "      <td>709.8</td>\n",
       "    </tr>\n",
       "    <tr>\n",
       "      <th>97</th>\n",
       "      <td>659.105442</td>\n",
       "      <td>697.0</td>\n",
       "    </tr>\n",
       "    <tr>\n",
       "      <th>103</th>\n",
       "      <td>634.373271</td>\n",
       "      <td>659.3</td>\n",
       "    </tr>\n",
       "  </tbody>\n",
       "</table>\n",
       "</div>"
      ],
      "text/plain": [
       "       Predicted  Actual\n",
       "125   647.018591   630.0\n",
       "153   663.007895   651.8\n",
       "137   756.400391   717.8\n",
       "142   716.585565   691.0\n",
       "111   950.767467   951.6\n",
       "89    730.330322   733.3\n",
       "121  1027.415572  1093.6\n",
       "192   725.099692   709.8\n",
       "97    659.105442   697.0\n",
       "103   634.373271   659.3"
      ]
     },
     "execution_count": 8,
     "metadata": {},
     "output_type": "execute_result"
    }
   ],
   "source": [
    "#heat\n",
    "grade=.0\n",
    "num=0\n",
    "#for i in range(1,101):\n",
    "df = pd.read_csv(file)\n",
    "X = df[['rice_num','meat_num','veg_num','oil_num']]#**(1/2)#\n",
    "y = df['heat']\n",
    "X_train, X_test, y_train, y_test = train_test_split(X, y, test_size=size, random_state=63)#,  \n",
    "#poly=make_pipeline(PolynomialFeatures(52), LinearRegression())#linear_model.Lasso() \n",
    "#poly.fit(X,y)\n",
    "oil = linear_model.ElasticNetCV()#Ridge(alpha=.1)LinearRegression()\n",
    "oil.fit(X_train,y_train)\n",
    "pickle.dump(oil, open('heat_REG.sav', 'wb'))\n",
    "y_pred = oil.predict(X_test)\n",
    "predictions = oil.predict(X_test)\n",
    "score = oil.score(X_test, y_test)\n",
    "'''if score>grade:\n",
    "    grade=score\n",
    "    num=i'''\n",
    "#print('score is: %f\\npoly is: %d'%(grade,num))\n",
    "print('Accuracy: ' + str(score*100) + '%')\n",
    "df = pd.DataFrame({'Predicted': y_pred, 'Actual': y_test})\n",
    "df1 = df.head(10)\n",
    "df1"
   ]
  },
  {
   "cell_type": "code",
   "execution_count": null,
   "id": "eec9359a-fcf9-4e2b-9799-af6d1259069a",
   "metadata": {},
   "outputs": [],
   "source": []
  }
 ],
 "metadata": {
  "kernelspec": {
   "display_name": "Python 3 (ipykernel)",
   "language": "python",
   "name": "python3"
  },
  "language_info": {
   "codemirror_mode": {
    "name": "ipython",
    "version": 3
   },
   "file_extension": ".py",
   "mimetype": "text/x-python",
   "name": "python",
   "nbconvert_exporter": "python",
   "pygments_lexer": "ipython3",
   "version": "3.9.12"
  }
 },
 "nbformat": 4,
 "nbformat_minor": 5
}
