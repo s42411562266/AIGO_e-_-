{
 "cells": [
  {
   "cell_type": "code",
   "execution_count": 1,
   "id": "1194221f",
   "metadata": {},
   "outputs": [],
   "source": [
    "import pandas as pd  \n",
    "import numpy as np  \n",
    "import pickle\n",
    "import matplotlib.pyplot as plt  \n",
    "import seaborn as sns\n",
    "from sklearn.model_selection import train_test_split \n",
    "from sklearn.linear_model import LinearRegression\n",
    "from sklearn import metrics\n",
    "from sklearn.preprocessing import PolynomialFeatures\n",
    "from sklearn.pipeline import make_pipeline\n",
    "from sklearn import linear_model\n",
    "%matplotlib inline\n",
    "size=0.1"
   ]
  },
  {
   "cell_type": "code",
   "execution_count": 2,
   "id": "3160fd88-b888-4879-86f0-d233601eabce",
   "metadata": {},
   "outputs": [
    {
     "name": "stdout",
     "output_type": "stream",
     "text": [
      "[1.68963318]\n"
     ]
    }
   ],
   "source": [
    "load_model=pickle.load(open('meat_REG.sav', 'rb'))\n",
    "pred=load_model.predict(pd.DataFrame({'meat_total': [0.191662]}))\n",
    "print(pred)"
   ]
  },
  {
   "cell_type": "code",
   "execution_count": 3,
   "id": "b60cac48-76f6-4ab8-922e-b4b3721bf3f1",
   "metadata": {},
   "outputs": [
    {
     "name": "stdout",
     "output_type": "stream",
     "text": [
      "[1.14388131]\n"
     ]
    }
   ],
   "source": [
    "load_model=pickle.load(open('veg_REG.sav', 'rb'))\n",
    "pred=load_model.predict(pd.DataFrame({'vegtable': [0.191662]}))\n",
    "print(pred)"
   ]
  },
  {
   "cell_type": "code",
   "execution_count": null,
   "id": "323f680d-cf7d-47f8-8a9d-a76f3351b334",
   "metadata": {},
   "outputs": [],
   "source": []
  }
 ],
 "metadata": {
  "kernelspec": {
   "display_name": "Python 3 (ipykernel)",
   "language": "python",
   "name": "python3"
  },
  "language_info": {
   "codemirror_mode": {
    "name": "ipython",
    "version": 3
   },
   "file_extension": ".py",
   "mimetype": "text/x-python",
   "name": "python",
   "nbconvert_exporter": "python",
   "pygments_lexer": "ipython3",
   "version": "3.9.12"
  }
 },
 "nbformat": 4,
 "nbformat_minor": 5
}
