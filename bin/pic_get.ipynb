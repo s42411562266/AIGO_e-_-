{
 "cells": [
  {
   "cell_type": "markdown",
   "id": "dcdd7c1d-42b7-4e13-8c1c-48b55eecf620",
   "metadata": {},
   "source": [
    "### 高雄市政府"
   ]
  },
  {
   "cell_type": "code",
   "execution_count": 1,
   "id": "55dfa341-28b9-4450-8a01-06d3665eb359",
   "metadata": {},
   "outputs": [],
   "source": [
    "import os\n",
    "import shutil"
   ]
  },
  {
   "cell_type": "code",
   "execution_count": 2,
   "id": "c24b2fe0-bf99-4514-856b-28a6200d6ce4",
   "metadata": {},
   "outputs": [],
   "source": [
    "os.chdir('excel')"
   ]
  },
  {
   "cell_type": "code",
   "execution_count": 3,
   "id": "0d866cab-afc7-4516-9ddd-e7942306e7db",
   "metadata": {},
   "outputs": [
    {
     "data": {
      "text/plain": [
       "'C:\\\\Users\\\\PUPU\\\\Documents\\\\AI\\\\excel'"
      ]
     },
     "execution_count": 3,
     "metadata": {},
     "output_type": "execute_result"
    }
   ],
   "source": [
    "os.getcwd()#os.chdir('../')"
   ]
  },
  {
   "cell_type": "code",
   "execution_count": 4,
   "id": "d16ac230-3995-4ae5-ae49-8500a932fcb7",
   "metadata": {},
   "outputs": [],
   "source": [
    "folder=os.listdir()"
   ]
  },
  {
   "cell_type": "code",
   "execution_count": 5,
   "id": "cd2392c1-c1f9-4fc2-99cb-5dc9b1b96865",
   "metadata": {
    "tags": []
   },
   "outputs": [],
   "source": [
    "for name in folder:\n",
    "    if os.path.isdir('C:\\\\Users\\\\PUPU\\\\Documents\\\\AI\\\\excel\\\\'+name+'\\\\xl'):\n",
    "        os.chdir('C:\\\\Users\\\\PUPU\\\\Documents\\\\AI\\\\excel\\\\'+name+'\\\\xl')#\\\\media\n",
    "        if os.path.isdir('media'):\n",
    "            os.rename('media',name)\n",
    "        shutil.copytree('C:/Users/PUPU/Documents/AI/excel/'+name+'/xl/'+name,'C:/Users/PUPU/Documents/AI/pic_relabel/'+name)\n",
    "        os.chdir('C:\\\\Users\\\\PUPU\\\\Documents\\\\AI\\\\excel')"
   ]
  },
  {
   "cell_type": "markdown",
   "id": "2483c5a0-3e7c-4b52-bf26-910986aab6e6",
   "metadata": {},
   "source": [
    "### 教育部食材平台"
   ]
  },
  {
   "cell_type": "code",
   "execution_count": 1,
   "id": "b856ffb8-936c-4daf-8ce0-b4d6c9b82a8f",
   "metadata": {},
   "outputs": [],
   "source": [
    "import os\n",
    "import shutil"
   ]
  },
  {
   "cell_type": "code",
   "execution_count": 2,
   "id": "9c5b0b84-b099-4cfa-9a53-0aeaf50ccf19",
   "metadata": {},
   "outputs": [],
   "source": [
    "os.chdir('excel_edu')\n",
    "#os.getcwd()#os.chdir('../')\n",
    "folder=os.listdir()"
   ]
  },
  {
   "cell_type": "code",
   "execution_count": 3,
   "id": "3e02732b-13f3-4288-9f6f-741bfbcd6b1c",
   "metadata": {},
   "outputs": [],
   "source": [
    "for name in folder:\n",
    "    if os.path.isdir('C:\\\\Users\\\\PUPU\\\\Documents\\\\AI\\\\excel_edu\\\\'+name+'\\\\xl'):\n",
    "        os.chdir('C:\\\\Users\\\\PUPU\\\\Documents\\\\AI\\\\excel_edu\\\\'+name+'\\\\xl')#\\\\media\n",
    "        if os.path.isdir('media'):\n",
    "            os.rename('media',name)\n",
    "        shutil.copytree('C:/Users/PUPU/Documents/AI/excel_edu/'+name+'/xl/'+name,'C:/Users/PUPU/Documents/AI/PIC_EDU/'+name)\n",
    "        os.chdir('C:\\\\Users\\\\PUPU\\\\Documents\\\\AI\\\\excel_edu')"
   ]
  },
  {
   "cell_type": "code",
   "execution_count": null,
   "id": "e1274e59-81c0-4612-ab27-a92f8259773d",
   "metadata": {},
   "outputs": [],
   "source": []
  }
 ],
 "metadata": {
  "kernelspec": {
   "display_name": "Python 3 (ipykernel)",
   "language": "python",
   "name": "python3"
  },
  "language_info": {
   "codemirror_mode": {
    "name": "ipython",
    "version": 3
   },
   "file_extension": ".py",
   "mimetype": "text/x-python",
   "name": "python",
   "nbconvert_exporter": "python",
   "pygments_lexer": "ipython3",
   "version": "3.9.12"
  }
 },
 "nbformat": 4,
 "nbformat_minor": 5
}
