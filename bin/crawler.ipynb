{
 "cells": [
  {
   "cell_type": "code",
   "execution_count": 24,
   "id": "f30ed2ec-7d58-45c3-adba-aecf812d8394",
   "metadata": {},
   "outputs": [
    {
     "ename": "InvalidSelectorException",
     "evalue": "Message: invalid selector: Unable to locate an element with the xpath expression //span[ul=county_name[2]]] because of the following error:\nSyntaxError: Failed to execute 'evaluate' on 'Document': The string '//span[ul=county_name[2]]]' is not a valid XPath expression.\n  (Session info: chrome=103.0.5060.134)\nStacktrace:\nBacktrace:\n\tOrdinal0 [0x00625FD3+2187219]\n\tOrdinal0 [0x005BE6D1+1763025]\n\tOrdinal0 [0x004D3E78+802424]\n\tOrdinal0 [0x004D6854+813140]\n\tOrdinal0 [0x004D6712+812818]\n\tOrdinal0 [0x004D69A0+813472]\n\tOrdinal0 [0x00501925+989477]\n\tOrdinal0 [0x00501EAB+990891]\n\tOrdinal0 [0x0052EC92+1174674]\n\tOrdinal0 [0x0051CBD4+1100756]\n\tOrdinal0 [0x0052CFC2+1167298]\n\tOrdinal0 [0x0051C9A6+1100198]\n\tOrdinal0 [0x004F6F80+946048]\n\tOrdinal0 [0x004F7E76+949878]\n\tGetHandleVerifier [0x008C90C2+2721218]\n\tGetHandleVerifier [0x008BAAF0+2662384]\n\tGetHandleVerifier [0x006B137A+526458]\n\tGetHandleVerifier [0x006B0416+522518]\n\tOrdinal0 [0x005C4EAB+1789611]\n\tOrdinal0 [0x005C97A8+1808296]\n\tOrdinal0 [0x005C9895+1808533]\n\tOrdinal0 [0x005D26C1+1844929]\n\tBaseThreadInitThunk [0x763FFA29+25]\n\tRtlGetAppContainerNamedObjectPath [0x77D77A9E+286]\n\tRtlGetAppContainerNamedObjectPath [0x77D77A6E+238]\n",
     "output_type": "error",
     "traceback": [
      "\u001b[1;31m---------------------------------------------------------------------------\u001b[0m",
      "\u001b[1;31mInvalidSelectorException\u001b[0m                  Traceback (most recent call last)",
      "Input \u001b[1;32mIn [24]\u001b[0m, in \u001b[0;36m<cell line: 17>\u001b[1;34m()\u001b[0m\n\u001b[0;32m     15\u001b[0m county_name\u001b[38;5;241m=\u001b[39m(county\u001b[38;5;241m.\u001b[39mtext)\u001b[38;5;241m.\u001b[39msplit(\u001b[38;5;124m'\u001b[39m\u001b[38;5;130;01m\\n\u001b[39;00m\u001b[38;5;124m'\u001b[39m)\n\u001b[0;32m     16\u001b[0m sleep(\u001b[38;5;241m1\u001b[39m)\n\u001b[1;32m---> 17\u001b[0m c_name\u001b[38;5;241m=\u001b[39m\u001b[43mdriver\u001b[49m\u001b[38;5;241;43m.\u001b[39;49m\u001b[43mfind_element\u001b[49m\u001b[43m(\u001b[49m\u001b[43mBy\u001b[49m\u001b[38;5;241;43m.\u001b[39;49m\u001b[43mXPATH\u001b[49m\u001b[43m,\u001b[49m\u001b[38;5;124;43m'\u001b[39;49m\u001b[38;5;124;43m//span[ul=county_name[2]]]\u001b[39;49m\u001b[38;5;124;43m'\u001b[39;49m\u001b[43m)\u001b[49m\u001b[38;5;66;03m#/li[] text()=county_name[0]]\u001b[39;00m\n\u001b[0;32m     18\u001b[0m \u001b[38;5;28mprint\u001b[39m(c_name\u001b[38;5;241m.\u001b[39mtext)\n\u001b[0;32m     19\u001b[0m \u001b[38;5;66;03m#c_name.click()\u001b[39;00m\n",
      "File \u001b[1;32m~\\anaconda3\\envs\\yolov5\\lib\\site-packages\\selenium\\webdriver\\remote\\webdriver.py:857\u001b[0m, in \u001b[0;36mWebDriver.find_element\u001b[1;34m(self, by, value)\u001b[0m\n\u001b[0;32m    854\u001b[0m     by \u001b[38;5;241m=\u001b[39m By\u001b[38;5;241m.\u001b[39mCSS_SELECTOR\n\u001b[0;32m    855\u001b[0m     value \u001b[38;5;241m=\u001b[39m \u001b[38;5;124m'\u001b[39m\u001b[38;5;124m[name=\u001b[39m\u001b[38;5;124m\"\u001b[39m\u001b[38;5;132;01m%s\u001b[39;00m\u001b[38;5;124m\"\u001b[39m\u001b[38;5;124m]\u001b[39m\u001b[38;5;124m'\u001b[39m \u001b[38;5;241m%\u001b[39m value\n\u001b[1;32m--> 857\u001b[0m \u001b[38;5;28;01mreturn\u001b[39;00m \u001b[38;5;28;43mself\u001b[39;49m\u001b[38;5;241;43m.\u001b[39;49m\u001b[43mexecute\u001b[49m\u001b[43m(\u001b[49m\u001b[43mCommand\u001b[49m\u001b[38;5;241;43m.\u001b[39;49m\u001b[43mFIND_ELEMENT\u001b[49m\u001b[43m,\u001b[49m\u001b[43m \u001b[49m\u001b[43m{\u001b[49m\n\u001b[0;32m    858\u001b[0m \u001b[43m    \u001b[49m\u001b[38;5;124;43m'\u001b[39;49m\u001b[38;5;124;43musing\u001b[39;49m\u001b[38;5;124;43m'\u001b[39;49m\u001b[43m:\u001b[49m\u001b[43m \u001b[49m\u001b[43mby\u001b[49m\u001b[43m,\u001b[49m\n\u001b[0;32m    859\u001b[0m \u001b[43m    \u001b[49m\u001b[38;5;124;43m'\u001b[39;49m\u001b[38;5;124;43mvalue\u001b[39;49m\u001b[38;5;124;43m'\u001b[39;49m\u001b[43m:\u001b[49m\u001b[43m \u001b[49m\u001b[43mvalue\u001b[49m\u001b[43m}\u001b[49m\u001b[43m)\u001b[49m[\u001b[38;5;124m'\u001b[39m\u001b[38;5;124mvalue\u001b[39m\u001b[38;5;124m'\u001b[39m]\n",
      "File \u001b[1;32m~\\anaconda3\\envs\\yolov5\\lib\\site-packages\\selenium\\webdriver\\remote\\webdriver.py:435\u001b[0m, in \u001b[0;36mWebDriver.execute\u001b[1;34m(self, driver_command, params)\u001b[0m\n\u001b[0;32m    433\u001b[0m response \u001b[38;5;241m=\u001b[39m \u001b[38;5;28mself\u001b[39m\u001b[38;5;241m.\u001b[39mcommand_executor\u001b[38;5;241m.\u001b[39mexecute(driver_command, params)\n\u001b[0;32m    434\u001b[0m \u001b[38;5;28;01mif\u001b[39;00m response:\n\u001b[1;32m--> 435\u001b[0m     \u001b[38;5;28;43mself\u001b[39;49m\u001b[38;5;241;43m.\u001b[39;49m\u001b[43merror_handler\u001b[49m\u001b[38;5;241;43m.\u001b[39;49m\u001b[43mcheck_response\u001b[49m\u001b[43m(\u001b[49m\u001b[43mresponse\u001b[49m\u001b[43m)\u001b[49m\n\u001b[0;32m    436\u001b[0m     response[\u001b[38;5;124m'\u001b[39m\u001b[38;5;124mvalue\u001b[39m\u001b[38;5;124m'\u001b[39m] \u001b[38;5;241m=\u001b[39m \u001b[38;5;28mself\u001b[39m\u001b[38;5;241m.\u001b[39m_unwrap_value(\n\u001b[0;32m    437\u001b[0m         response\u001b[38;5;241m.\u001b[39mget(\u001b[38;5;124m'\u001b[39m\u001b[38;5;124mvalue\u001b[39m\u001b[38;5;124m'\u001b[39m, \u001b[38;5;28;01mNone\u001b[39;00m))\n\u001b[0;32m    438\u001b[0m     \u001b[38;5;28;01mreturn\u001b[39;00m response\n",
      "File \u001b[1;32m~\\anaconda3\\envs\\yolov5\\lib\\site-packages\\selenium\\webdriver\\remote\\errorhandler.py:247\u001b[0m, in \u001b[0;36mErrorHandler.check_response\u001b[1;34m(self, response)\u001b[0m\n\u001b[0;32m    245\u001b[0m         alert_text \u001b[38;5;241m=\u001b[39m value[\u001b[38;5;124m'\u001b[39m\u001b[38;5;124malert\u001b[39m\u001b[38;5;124m'\u001b[39m]\u001b[38;5;241m.\u001b[39mget(\u001b[38;5;124m'\u001b[39m\u001b[38;5;124mtext\u001b[39m\u001b[38;5;124m'\u001b[39m)\n\u001b[0;32m    246\u001b[0m     \u001b[38;5;28;01mraise\u001b[39;00m exception_class(message, screen, stacktrace, alert_text)  \u001b[38;5;66;03m# type: ignore[call-arg]  # mypy is not smart enough here\u001b[39;00m\n\u001b[1;32m--> 247\u001b[0m \u001b[38;5;28;01mraise\u001b[39;00m exception_class(message, screen, stacktrace)\n",
      "\u001b[1;31mInvalidSelectorException\u001b[0m: Message: invalid selector: Unable to locate an element with the xpath expression //span[ul=county_name[2]]] because of the following error:\nSyntaxError: Failed to execute 'evaluate' on 'Document': The string '//span[ul=county_name[2]]]' is not a valid XPath expression.\n  (Session info: chrome=103.0.5060.134)\nStacktrace:\nBacktrace:\n\tOrdinal0 [0x00625FD3+2187219]\n\tOrdinal0 [0x005BE6D1+1763025]\n\tOrdinal0 [0x004D3E78+802424]\n\tOrdinal0 [0x004D6854+813140]\n\tOrdinal0 [0x004D6712+812818]\n\tOrdinal0 [0x004D69A0+813472]\n\tOrdinal0 [0x00501925+989477]\n\tOrdinal0 [0x00501EAB+990891]\n\tOrdinal0 [0x0052EC92+1174674]\n\tOrdinal0 [0x0051CBD4+1100756]\n\tOrdinal0 [0x0052CFC2+1167298]\n\tOrdinal0 [0x0051C9A6+1100198]\n\tOrdinal0 [0x004F6F80+946048]\n\tOrdinal0 [0x004F7E76+949878]\n\tGetHandleVerifier [0x008C90C2+2721218]\n\tGetHandleVerifier [0x008BAAF0+2662384]\n\tGetHandleVerifier [0x006B137A+526458]\n\tGetHandleVerifier [0x006B0416+522518]\n\tOrdinal0 [0x005C4EAB+1789611]\n\tOrdinal0 [0x005C97A8+1808296]\n\tOrdinal0 [0x005C9895+1808533]\n\tOrdinal0 [0x005D26C1+1844929]\n\tBaseThreadInitThunk [0x763FFA29+25]\n\tRtlGetAppContainerNamedObjectPath [0x77D77A9E+286]\n\tRtlGetAppContainerNamedObjectPath [0x77D77A6E+238]\n"
     ]
    }
   ],
   "source": [
    "from selenium import webdriver\n",
    "from time import sleep\n",
    "from selenium.webdriver.support.ui import Select\n",
    "from selenium.webdriver.common.keys import Keys\n",
    "from selenium.webdriver.common.by import By\n",
    "\n",
    "driver = webdriver.Chrome()\n",
    "driver.get(\"https://fatraceschool.k12ea.gov.tw/frontend/search.html\")#https://fatraceschool.k12ea.gov.tw/frontend/search.html\"\n",
    "sleep(2)\n",
    "#縣市\n",
    "county=driver.find_element('id','select2-county-container')\n",
    "county.click()\n",
    "sleep(1)\n",
    "county=driver.find_element('id','select2-county-results')\n",
    "county_name=(county.text).split('\\n')\n",
    "sleep(1)\n",
    "c_name=driver.find_element(By.XPATH,'//span[ul=county_name[2]]]')#/li[] text()=county_name[0]]\n",
    "print(c_name.text)\n",
    "#c_name.click()\n",
    "'''driver.find_element(By.CLASS_NAME,'select2-search__field').send_keys(county_name[3])\n",
    "driver.find_element(By.CLASS_NAME,'select2-results__option').click()\n",
    "sleep(1)\n",
    "driver.find_element(By.CLASS_NAME,'select2-results__option').click()\n",
    "#driver.find_element(By.CLASS_NAME,'select2-search__field').send_keys(Keys.RETURN)#link.click()'''\n",
    "#學級\n",
    "county=driver.find_element('id','select2-school_type-container')\n",
    "county.click()\n",
    "sleep(1)\n",
    "driver.find_element(By.CLASS_NAME,'select2-search__field').send_keys('國小')\n",
    "driver.find_element(By.CLASS_NAME,'select2-search__field').send_keys(Keys.RETURN)\n",
    "#school\n",
    "driver.find_element('id','select2-school-container').click()\n",
    "sleep(1)\n",
    "school=driver.find_element('id','select2-school-results')\n",
    "school_name=(school.text).split('\\n')\n",
    "print(school_name)\n",
    "driver.find_element(By.CLASS_NAME,'select2-search__field').send_keys(school_name[5])\n",
    "#driver.find_element(By.CLASS_NAME,'select2-search__field').send_keys(Keys.RETURN)\n",
    "driver.find_element(By.CLASS_NAME,'select2-results__option').click()\n",
    "sleep(1)\n",
    "driver.find_element(By.CLASS_NAME,'select2-results__option').click()\n",
    "#date\n",
    "county=driver.find_element(By.ID,'period')\n",
    "county.click()\n",
    "sleep(1)"
   ]
  },
  {
   "cell_type": "code",
   "execution_count": null,
   "id": "9bf6d222-7aa4-4db6-8a7b-0ba8ab975e21",
   "metadata": {},
   "outputs": [],
   "source": [
    "# 抓取下拉選單元件\n",
    "date = driver.find_element('name','period')\n",
    "#date.send_keys(Keys.RETURN)\n",
    "date.click()\n",
    "sleep(5)\n",
    "date.click()\n",
    "#driver.quit()"
   ]
  }
 ],
 "metadata": {
  "kernelspec": {
   "display_name": "Python 3 (ipykernel)",
   "language": "python",
   "name": "python3"
  },
  "language_info": {
   "codemirror_mode": {
    "name": "ipython",
    "version": 3
   },
   "file_extension": ".py",
   "mimetype": "text/x-python",
   "name": "python",
   "nbconvert_exporter": "python",
   "pygments_lexer": "ipython3",
   "version": "3.9.7"
  }
 },
 "nbformat": 4,
 "nbformat_minor": 5
}
