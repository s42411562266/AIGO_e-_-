{
 "cells": [
  {
   "cell_type": "markdown",
   "id": "e529d7c0-a149-48da-8dac-d07fbd36d1e6",
   "metadata": {},
   "source": [
    "### 原地改名 ###"
   ]
  },
  {
   "cell_type": "code",
   "execution_count": 1,
   "id": "21ff1cea-f212-4b73-8968-a9297588aa76",
   "metadata": {},
   "outputs": [],
   "source": [
    "import pickle, os, glob\n",
    "from os import listdir, getcwd\n",
    "from os.path import join\n",
    "import shutil\n",
    "root='C:\\\\Users\\\\PUPU\\\\Documents\\\\AI\\\\valid\\\\'\n",
    "a=glob.glob('./valid/*')\n",
    "for folder in a:\n",
    "    os.chdir(root+folder.split('\\\\')[-1])\n",
    "    os.getcwd()\n",
    "    for b in glob.glob(root+folder.split('\\\\')[-1]+'\\\\*'):#*.xml\n",
    "        if b.split('.')[-1]=='xml':\n",
    "            continue\n",
    "        os.rename(b.split('\\\\')[-1], folder.split('\\\\')[-1]+b.split('\\\\')[-1])\n",
    "        shutil.copyfile(root+folder.split(\"\\\\\")[-1]+'\\\\'+folder.split(\"\\\\\")[-1]+b.split('\\\\')[-1], root+folder.split(\"\\\\\")[-1]+b.split('\\\\')[-1])"
   ]
  },
  {
   "cell_type": "markdown",
   "id": "f220da82-2dc2-4e04-9263-f9f03955fc71",
   "metadata": {},
   "source": [
    "### 把檔名(+label)改為流水號 ###"
   ]
  },
  {
   "cell_type": "code",
   "execution_count": 2,
   "id": "b5d744c5-422d-48b6-b683-57f6b6ff05a1",
   "metadata": {
    "tags": []
   },
   "outputs": [],
   "source": [
    "import pickle, os, glob\n",
    "from os import listdir, getcwd\n",
    "from os.path import join\n",
    "import shutil\n",
    "root='../AIGO_valid/'\n",
    "index=359\n",
    "f=open('name_convert.txt','w',encoding='UTF-8')\n",
    "for come in glob.glob('../AIGO_valid/images/*'):\n",
    "    cut=come.split('\\\\')[-1]\n",
    "    f.write(cut+'\\n')\n",
    "    try:\n",
    "        os.rename(root+'images/'+cut, root+'images/'+str(index)+'.'+come.split('.')[-1])\n",
    "        os.rename(root+'labels\\\\'+cut.replace(cut.split('.')[-1],'txt'), root+'labels\\\\'+str(index)+'.txt')\n",
    "    except:\n",
    "        print('檔案已處理: '+cut)\n",
    "    index+=1\n",
    "#f.write(\"\".join([a for a in name]))\n",
    "f.close()"
   ]
  },
  {
   "cell_type": "code",
   "execution_count": null,
   "id": "5cd7364d-501a-4a2e-aeb5-581deb137094",
   "metadata": {},
   "outputs": [],
   "source": []
  }
 ],
 "metadata": {
  "kernelspec": {
   "display_name": "Python 3 (ipykernel)",
   "language": "python",
   "name": "python3"
  },
  "language_info": {
   "codemirror_mode": {
    "name": "ipython",
    "version": 3
   },
   "file_extension": ".py",
   "mimetype": "text/x-python",
   "name": "python",
   "nbconvert_exporter": "python",
   "pygments_lexer": "ipython3",
   "version": "3.9.12"
  }
 },
 "nbformat": 4,
 "nbformat_minor": 5
}
